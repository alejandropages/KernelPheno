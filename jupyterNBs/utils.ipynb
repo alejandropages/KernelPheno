{
 "cells": [
  {
   "cell_type": "code",
   "execution_count": 2,
   "metadata": {},
   "outputs": [],
   "source": [
    "from skimage.segmentation import clear_border\n",
    "from skimage.measure import label, regionprops\n",
    "from skimage.color import rgb2gray\n",
    "from skimage.filters import threshold_otsu\n",
    "from skimage.morphology import closing, square\n",
    "from skimage.util import invert\n",
    "\n",
    "import numpy as np"
   ]
  },
  {
   "cell_type": "code",
   "execution_count": 3,
   "metadata": {},
   "outputs": [],
   "source": [
    "def get_sorted_bboxes(image):\n",
    "    ''' Generate the sorted bounding boxes '''\n",
    "    filter = _get_background_filter(image)\n",
    "    cleared = clear_border(filter)\n",
    "    label_image = label(cleared)\n",
    "    coords = []\n",
    "    for region in regionprops(label_image, coordinates='rc'):\n",
    "        if (region.area < 1000) \\\n",
    "            or (region.area > 100000) \\\n",
    "            or ((region.major_axis_length / region.minor_axis_length) < 0.2) \\\n",
    "            or ((region.minor_axis_length / region.major_axis_length) < 0.2):\n",
    "            continue\n",
    "\n",
    "        coords.append(region.bbox) # minr, minc, maxr, maxc\n",
    "\n",
    "    sorted_bbxs = _sort_bbxs(coords, image.shape[0])\n",
    "\n",
    "    return sorted_bbxs\n",
    "\n",
    "\n",
    "def _sort_bbxs(regions, num_rows):\n",
    "    ''' Sort bboxes left to right, top to bottom '''\n",
    "\n",
    "    def overlap(el1, el2):\n",
    "        ''' determine if bounding boxes overlap along a row '''\n",
    "        upper_max = max(el1[0], el2[0])\n",
    "        lower_min = min(el1[2], el2[2])\n",
    "        return (upper_max < lower_min)\n",
    "\n",
    "    rows = []\n",
    "\n",
    "    while(len(regions)):\n",
    "        sorted_by_y = sorted(regions, key=lambda x: x[0])\n",
    "        first_el = sorted_by_y[0]\n",
    "        rows.append([first_el])\n",
    "        regions.remove(first_el)\n",
    "        sorted_by_y.pop(0)\n",
    "        for el in sorted_by_y:\n",
    "            if overlap(el, first_el) or overlap(el, rows[-1][-1]):\n",
    "                rows[-1].append(el)\n",
    "                regions.remove(el)\n",
    "\n",
    "    sorted_bbxs = []\n",
    "    for row in rows:\n",
    "        sorted_bbxs += sorted(row, key=lambda x: x[1])\n",
    "    return sorted_bbxs\n",
    "\n",
    "\n",
    "def _get_background_filter(image):\n",
    "    ''' Get's the binary filter of the segmented image '''\n",
    "    if not image.ndim == 2:\n",
    "        image = rgb2gray(image)\n",
    "    thresh = threshold_otsu(image)\n",
    "    bw = closing(image > thresh, square(3))\n",
    "    return invert(bw)"
   ]
  },
  {
   "cell_type": "code",
   "execution_count": null,
   "metadata": {},
   "outputs": [],
   "source": []
  }
 ],
 "metadata": {
  "kernelspec": {
   "display_name": "Python 3",
   "language": "python",
   "name": "python3"
  },
  "language_info": {
   "codemirror_mode": {
    "name": "ipython",
    "version": 3
   },
   "file_extension": ".py",
   "mimetype": "text/x-python",
   "name": "python",
   "nbconvert_exporter": "python",
   "pygments_lexer": "ipython3",
   "version": "3.7.3"
  }
 },
 "nbformat": 4,
 "nbformat_minor": 2
}
